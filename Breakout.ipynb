{
 "cells": [
  {
   "cell_type": "code",
   "execution_count": 1,
   "metadata": {},
   "outputs": [],
   "source": [
    "import numpy as np\n",
    "\n",
    "import gym\n",
    "from baselines.common.atari_wrappers import *\n",
    "\n",
    "import random\n",
    "import torch\n",
    "import torch.nn as nn\n",
    "import torch.nn.functional as F\n",
    "import torch.optim as optim\n",
    "\n",
    "from dqn_agent import Agent\n",
    "\n",
    "from collections import deque\n",
    "import matplotlib.pyplot as plt\n",
    "%matplotlib inline\n",
    "\n",
    "%config InlineBackend.figure_format='retina'\n",
    "\n",
    "# Some more magic so that the notebook will reload external python modules;\n",
    "# see http://stackoverflow.com/questions/1907993/autoreload-of-modules-in-ipython\n",
    "%load_ext autoreload\n",
    "%autoreload 2"
   ]
  },
  {
   "cell_type": "code",
   "execution_count": 2,
   "metadata": {},
   "outputs": [
    {
     "name": "stderr",
     "output_type": "stream",
     "text": [
      "/home/parminder0407/anaconda3/envs/cv3/lib/python3.6/site-packages/gym/envs/registration.py:14: PkgResourcesDeprecationWarning: Parameters to load are deprecated.  Call .resolve and .require separately.\n",
      "  result = entry_point.load(False)\n"
     ]
    }
   ],
   "source": [
    "# loading the environment \n",
    "env = gym.make('Breakout-v0')"
   ]
  },
  {
   "cell_type": "code",
   "execution_count": 3,
   "metadata": {},
   "outputs": [],
   "source": [
    "# using openai atari wrappers for preprocessing the input game image and stack frames\n",
    "pp_env = wrap_deepmind(env,frame_stack=True)"
   ]
  },
  {
   "cell_type": "code",
   "execution_count": 4,
   "metadata": {},
   "outputs": [
    {
     "name": "stdout",
     "output_type": "stream",
     "text": [
      "Original game state shape: (210, 160, 3)\n",
      "Processed game state shape: (84, 84, 4)\n"
     ]
    },
    {
     "data": {
      "image/png": "[encoded data removed]",
      "text/plain": [
       "<Figure size 432x288 with 2 Axes>"
      ]
     },
     "metadata": {
      "image/png": {
       "height": 246,
       "width": 423
      },
      "needs_background": "light"
     },
     "output_type": "display_data"
    }
   ],
   "source": [
    "# lets see the difference between the original and preprocessed game state\n",
    "\n",
    "orig_state = env.reset()\n",
    "pp_state = np.array(pp_env.reset())\n",
    "\n",
    "fig,ax = plt.subplots(nrows=1,ncols=2)\n",
    "\n",
    "# orig game state\n",
    "ax[0].imshow(orig_state)\n",
    "ax[0].set_title('Original game state')\n",
    "print (\"Original game state shape: {}\".format(orig_state.shape))\n",
    "\n",
    "# processed game state\n",
    "ax[1].imshow(pp_state[:,:,0],cmap='gray')\n",
    "ax[1].set_title('first frame of processed game state')\n",
    "print (\"Processed game state shape: {}\".format(pp_state.shape))\n",
    "\n",
    "plt.tight_layout()\n",
    "plt.show()"
   ]
  },
  {
   "cell_type": "code",
   "execution_count": 6,
   "metadata": {},
   "outputs": [
    {
     "name": "stdout",
     "output_type": "stream",
     "text": [
      "step: 0\t action: 0\t reward: 0.0\t done: False\n",
      "step: 1\t action: 0\t reward: 0.0\t done: False\n",
      "step: 2\t action: 0\t reward: 0.0\t done: False\n",
      "step: 3\t action: 1\t reward: 0.0\t done: False\n",
      "step: 4\t action: 1\t reward: 0.0\t done: False\n",
      "step: 5\t action: 2\t reward: 0.0\t done: False\n",
      "step: 6\t action: 0\t reward: 0.0\t done: False\n",
      "step: 7\t action: 0\t reward: 0.0\t done: False\n",
      "step: 8\t action: 1\t reward: 0.0\t done: False\n",
      "step: 9\t action: 3\t reward: 0.0\t done: False\n",
      "step: 10\t action: 0\t reward: 0.0\t done: False\n",
      "step: 11\t action: 1\t reward: 0.0\t done: False\n",
      "step: 12\t action: 2\t reward: 0.0\t done: False\n",
      "step: 13\t action: 2\t reward: 0.0\t done: False\n",
      "step: 14\t action: 3\t reward: 0.0\t done: False\n",
      "step: 15\t action: 0\t reward: 0.0\t done: False\n",
      "step: 16\t action: 1\t reward: 0.0\t done: False\n",
      "step: 17\t action: 1\t reward: 0.0\t done: False\n",
      "step: 18\t action: 3\t reward: 0.0\t done: False\n",
      "step: 19\t action: 1\t reward: 0.0\t done: False\n",
      "step: 20\t action: 1\t reward: 0.0\t done: False\n",
      "step: 21\t action: 3\t reward: 0.0\t done: False\n",
      "step: 22\t action: 2\t reward: 0.0\t done: False\n",
      "step: 23\t action: 3\t reward: 0.0\t done: False\n",
      "step: 24\t action: 3\t reward: 0.0\t done: False\n",
      "step: 25\t action: 2\t reward: 0.0\t done: False\n",
      "step: 26\t action: 2\t reward: 0.0\t done: False\n",
      "step: 27\t action: 3\t reward: 0.0\t done: False\n",
      "step: 28\t action: 0\t reward: 0.0\t done: False\n",
      "step: 29\t action: 2\t reward: 0.0\t done: False\n",
      "step: 30\t action: 3\t reward: 0.0\t done: True\n",
      "Avg reward for random play episode: 0.0\n"
     ]
    }
   ],
   "source": [
    "random_rewards = []\n",
    "\n",
    "for _ in range(1):\n",
    "    # lets play a random game\n",
    "    state = pp_env.reset()\n",
    "    done = False\n",
    "    total_reward = 0\n",
    "    step = 0\n",
    "    while not done:\n",
    "        action = pp_env.action_space.sample()\n",
    "        next_state,reward,done,_ = pp_env.step(action)\n",
    "        \n",
    "        # print step details\n",
    "        print (\"step: {}\\t action: {}\\t reward: {}\\t done: {}\".format(step,action,reward,done))\n",
    "        # update state and total reward\n",
    "        state = next_state\n",
    "        total_reward += reward\n",
    "        step+=1\n",
    "    \n",
    "    random_rewards.append(total_reward)\n",
    "\n",
    "print (\"Avg reward for random play episode: {}\".format(np.mean(random_rewards)))"
   ]
  },
  {
   "cell_type": "code",
   "execution_count": null,
   "metadata": {},
   "outputs": [],
   "source": [
    "# initialising the agent\n",
    "agent = Agent(state_shape=pp_env.observation_space.shape, action_size=pp_env.action_space.n,lr=2.5e-4)\n",
    "\n",
    "from dqn_agent import REPLAY_START_SIZE\n",
    "\n",
    "def evaluate_agent(agent):\n",
    "    eval_score_list = []\n",
    "    for _ in range(10):\n",
    "        state = pp_env.reset()\n",
    "        done = False\n",
    "        eval_reward = 0\n",
    "        while not done:\n",
    "            action = agent.act(state,eps=0.1)\n",
    "            next_state,reward,done,_ = pp_env.step(action)\n",
    "\n",
    "            state = next_state\n",
    "            eval_reward += reward\n",
    "        eval_score_list.append(eval_reward)\n",
    "    \n",
    "    return np.mean(eval_score_list)\n",
    "\n",
    "# training function\n",
    "def dqn_train(max_episodes=1000,max_t=1000,eps_start=1.0,eps_end=1e-1,PRINT_EVERY=100):\n",
    "    \"\"\"\n",
    "    trains the DQN agent\n",
    "\n",
    "    Params\n",
    "    ======\n",
    "    max_episodes : max number of episodes for training the agent\n",
    "    max_t : max number of timesteps for each episode to be used in training\n",
    "    eps_start : starting value of epsilon\n",
    "    eps_end : final value of epsilon\n",
    "\n",
    "    \"\"\"\n",
    "    ACTION_EVERY = 4\n",
    "    UPDATE_EVERY = 4\n",
    "    MAX_EXPLORATION_FRAMES = 1e4\n",
    "    \n",
    "    eps_decay = np.exp(np.log(eps_end/eps_start)/MAX_EXPLORATION_FRAMES)\n",
    "    \n",
    "    eps = eps_start\n",
    "    scores = []\n",
    "    score_window = deque(maxlen=100)\n",
    "    avg_scores = []\n",
    "\n",
    "    for episode_count in range(1,max_episodes+1):\n",
    "\n",
    "        # reset env state\n",
    "        state = pp_env.reset()\n",
    "        \n",
    "        t_action = 0\n",
    "        t_update = 0\n",
    "        \n",
    "        total_reward = 0\n",
    "        for t in range(max_t) :\n",
    "            if t_action == 0:\n",
    "                # choose action using the local q-network\n",
    "                action = agent.act(state,eps)\n",
    "                \n",
    "                # taking action in the env\n",
    "                next_state,reward,done,_ = pp_env.step(action)\n",
    "\n",
    "                # using agent to perform a learning step and save the sample in the memory\n",
    "                agent.step(state,action,reward,next_state,done,t_update)\n",
    "\n",
    "                # decay the epsilon value\n",
    "                if len(agent.memory) > REPLAY_START_SIZE:\n",
    "                    eps = max(eps_decay*eps,eps_end)\n",
    "                \n",
    "                # Update t_update\n",
    "                t_update = (t_update+1) % UPDATE_EVERY\n",
    "            \n",
    "            else:\n",
    "                # taking action in the env\n",
    "                next_state,reward,done,_ = pp_env.step(action)\n",
    "                \n",
    "            \n",
    "            # update action time step\n",
    "            t_action = (t_action+1) % ACTION_EVERY\n",
    "                \n",
    "            # get total reward for the episode\n",
    "            total_reward += reward\n",
    "\n",
    "            # set current state = next_state\n",
    "            state = next_state\n",
    "\n",
    "            if done:\n",
    "                break\n",
    "\n",
    "        scores.append(total_reward)\n",
    "        score_window.append(total_reward) \n",
    "        avg_scores.append(np.mean(score_window))\n",
    "\n",
    "        print('\\rEpisode {}\\tAverage Score: {:.2f}'.format(episode_count, np.mean(score_window)), len(agent.memory),end=\"\")\n",
    "        if episode_count % PRINT_EVERY == 0:\n",
    "            print('\\rEpisode {}\\tAverage Score: {:.2f}'.format(episode_count, np.mean(score_window)))\n",
    "            eval_reward = evaluate_agent(agent)\n",
    "            print(\"\\nEpisode {}\\tEval Score: {:.2f}\\n\".format(episode_count,eval_reward))\n",
    "\n",
    "        if np.mean(score_window) > 13:\n",
    "            print('\\rLearning completed in {} episodes ... avg_score :{}'.format(episode_count, np.mean(score_window)))\n",
    "            torch.save(agent.qnet_local.state_dict(), 'checkpoint_local.pth')\n",
    "            break\n",
    "\n",
    "    return agent,scores,avg_scores"
   ]
  },
  {
   "cell_type": "code",
   "execution_count": null,
   "metadata": {
    "scrolled": false
   },
   "outputs": [],
   "source": [
    "# training the dqn\n",
    "trained_agent,scores,avg_scores = dqn_train(max_episodes=100000,PRINT_EVERY=100)"
   ]
  },
  {
   "cell_type": "code",
   "execution_count": null,
   "metadata": {},
   "outputs": [],
   "source": [
    "# plotting the avg reward curve\n",
    "plt.figure(figsize=(10,10))\n",
    "plt.plot(range(len(avg_scores)),avg_scores)\n",
    "plt.xlabel('episodes')\n",
    "plt.ylabel('avg score for last 100 episodes')\n",
    "plt.grid()\n",
    "plt.show()"
   ]
  },
  {
   "cell_type": "code",
   "execution_count": null,
   "metadata": {},
   "outputs": [],
   "source": [
    "# save trained agent weights\n",
    "# torch.save(agent.qnet_local.state_dict(),\"checkpoint_local.pth\")"
   ]
  },
  {
   "cell_type": "code",
   "execution_count": null,
   "metadata": {},
   "outputs": [],
   "source": [
    "# # uncomment this cell to load trained agent weights\n",
    "# # initialising the agent\n",
    "# trained_agent = Agent(state_size=brain.vector_observation_space_size, action_size=brain.vector_action_space_size)\n",
    "# trained_agent.qnet_local.load_state_dict(torch.load('checkpoint_local.pth',map_location='cpu'))"
   ]
  },
  {
   "cell_type": "code",
   "execution_count": null,
   "metadata": {},
   "outputs": [],
   "source": [
    "# lets visualise at how the trained agent performs\n",
    "\n",
    "# reset env state\n",
    "env_info = env.reset(train_mode=False)[brain_name]\n",
    "state = env_info.vector_observations[0]\n",
    "\n",
    "done = env_info.local_done[0]\n",
    "total_reward = 0\n",
    "\n",
    "while not done:\n",
    "    # choose action using the local q-network using low value of epsilon = 1e-2\n",
    "    action = trained_agent.act(state,eps=1e-2)\n",
    "\n",
    "    # taking action in the env\n",
    "    env_info = env.step(vector_action=action)[brain_name]\n",
    "\n",
    "    # getting next_state,reward,done from the env\n",
    "    next_state = env_info.vector_observations[0]\n",
    "    reward = env_info.rewards[0]\n",
    "    done = env_info.local_done[0]\n",
    "    \n",
    "    # get total reward for the episode\n",
    "    total_reward += reward\n",
    "    \n",
    "    # set current state = next_state\n",
    "    state = next_state\n",
    "    \n",
    "print (\"total reward : {:.2f}\".format(total_reward))"
   ]
  },
  {
   "cell_type": "code",
   "execution_count": null,
   "metadata": {},
   "outputs": [],
   "source": [
    "# closing the environment\n",
    "env.close()"
   ]
  },
  {
   "cell_type": "code",
   "execution_count": null,
   "metadata": {},
   "outputs": [],
   "source": [
    "m = nn.Conv2d(16, 33, 3, stride=1)\n",
    "x = torch.randn(20, 16, 50, 100)\n",
    "out = m(x)\n",
    "out.shape"
   ]
  },
  {
   "cell_type": "code",
   "execution_count": null,
   "metadata": {},
   "outputs": [],
   "source": [
    "len(trained_agent.memory)"
   ]
  },
  {
   "cell_type": "code",
   "execution_count": null,
   "metadata": {},
   "outputs": [],
   "source": [
    "np.exp(np.log(0.1)/1e4)"
   ]
  },
  {
   "cell_type": "code",
   "execution_count": null,
   "metadata": {},
   "outputs": [],
   "source": []
  },
  {
   "cell_type": "code",
   "execution_count": null,
   "metadata": {},
   "outputs": [],
   "source": []
  }
 ],
 "metadata": {
  "kernelspec": {
   "display_name": "cv3",
   "language": "python",
   "name": "cv3"
  },
  "language_info": {
   "codemirror_mode": {
    "name": "ipython",
    "version": 3
   },
   "file_extension": ".py",
   "mimetype": "text/x-python",
   "name": "python",
   "nbconvert_exporter": "python",
   "pygments_lexer": "ipython3",
   "version": "3.6.6"
  }
 },
 "nbformat": 4,
 "nbformat_minor": 2
}
